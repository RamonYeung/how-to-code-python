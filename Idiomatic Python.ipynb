{
 "cells": [
  {
   "cell_type": "markdown",
   "metadata": {},
   "source": [
    "# How to write Python code idiomatically?"
   ]
  },
  {
   "cell_type": "markdown",
   "metadata": {
    "collapsed": true
   },
   "source": [
    "Agenda\n",
    "* Idioms\n",
    "* Data Manipulation\n",
    "* Control Flow\n",
    "* ‘itertools’\n",
    "* Functional Python"
   ]
  },
  {
   "cell_type": "markdown",
   "metadata": {
    "collapsed": true
   },
   "source": [
    "### 1. Idioms\n",
    "* An unwritten rule\n",
    "* A common use-case\n",
    "* Usually make the code better in: **Readability**, **Speed**, **Resource Usage**."
   ]
  },
  {
   "cell_type": "markdown",
   "metadata": {
    "collapsed": true
   },
   "source": [
    "### 2. Data Manipulation"
   ]
  },
  {
   "cell_type": "code",
   "execution_count": null,
   "metadata": {
    "collapsed": false
   },
   "outputs": [],
   "source": [
    "# Unpacking\n",
    "\n",
    "s = ('zhang', 'yu', 106, 'feiyuw@gmail.com')\n",
    "\n",
    "firstname = s[0]\n",
    "lastname = s[1]\n",
    "weight = s[2]\n",
    "email = s[3]\n",
    "\n",
    "# Idiomatic\n",
    "firstname, lastname, weight, email = s\n",
    "_, _, _, email = s # if only email is needed"
   ]
  },
  {
   "cell_type": "code",
   "execution_count": null,
   "metadata": {
    "collapsed": false
   },
   "outputs": [],
   "source": [
    "# Swap Values\n",
    "\n",
    "a, b = 1, 2\n",
    "temp = a\n",
    "a = b\n",
    "b = temp\n",
    "\n",
    "# idiomatic way, using tuple packing & unpacking\n",
    "a, b = b, a\n",
    "\n",
    "# For those pathetic C programmers\n",
    "a, b = (b, a)"
   ]
  },
  {
   "cell_type": "code",
   "execution_count": null,
   "metadata": {
    "collapsed": false
   },
   "outputs": [],
   "source": [
    "# Concatenating Strings\n",
    "\n",
    "fruits = ['cherry', 'coconut', 'blueberry', 'kiwi']\n",
    "\n",
    "# bad\n",
    "s = fruits[0]\n",
    "for i in fruits[1:]:\n",
    "    s += ', ' + i\n",
    "print s \n",
    "\n",
    "# idiomatic\n",
    "print ', '.join(fruits)"
   ]
  },
  {
   "cell_type": "code",
   "execution_count": null,
   "metadata": {
    "collapsed": false
   },
   "outputs": [],
   "source": [
    "# Looping over a collection\n",
    "\n",
    "colors = ['red', 'green', 'blue', 'yellow']\n",
    "\n",
    "# bad\n",
    "for i in range(len(colors)):\n",
    "    print colors[i]\n",
    "\n",
    "# idiomatic\n",
    "for color in colors:\n",
    "    print color"
   ]
  },
  {
   "cell_type": "code",
   "execution_count": null,
   "metadata": {
    "collapsed": false
   },
   "outputs": [],
   "source": [
    "# Looping backwards\n",
    "\n",
    "colors = ['red', 'green', 'blue', 'yellow']\n",
    "\n",
    "for color in reversed(colors):\n",
    "    print color\n",
    "for color in colors[::-1]:\n",
    "    print color"
   ]
  },
  {
   "cell_type": "code",
   "execution_count": null,
   "metadata": {
    "collapsed": false
   },
   "outputs": [],
   "source": [
    "# Looping with indices\n",
    "\n",
    "# bad\n",
    "for i in range(len(colors)):\n",
    "    print i, '-->', colors[i]\n",
    "\n",
    "# idiomatic\n",
    "for i, color in enumerate(colors):\n",
    "    print i, '-->', color"
   ]
  },
  {
   "cell_type": "code",
   "execution_count": null,
   "metadata": {
    "collapsed": false
   },
   "outputs": [],
   "source": [
    "# Looping over a dictionary\n",
    "\n",
    "codes = {'Xian': '29', 'Beijing':'10', 'Shanghai':'21'}\n",
    "\n",
    "# bad\n",
    "for k in codes:\n",
    "    print k, '-->', codes[k]\n",
    "\n",
    "# recommended\n",
    "for k, v in codes.items():\n",
    "    print k, '-->', v\n",
    "\n",
    "for k, v in codes.iteritems():\n",
    "    print k, '-->', v"
   ]
  },
  {
   "cell_type": "code",
   "execution_count": null,
   "metadata": {
    "collapsed": false
   },
   "outputs": [],
   "source": [
    "# ‘defaultdict’\n",
    "\n",
    "names = ['james', 'peter', 'simon', 'jack', 'john', 'lawrence']\n",
    "\n",
    "# expected result\n",
    "{8: ['lawrence'], 4: ['jack', 'john'], 5: ['james', 'peter', 'simon']}\n",
    "\n",
    "# old way\n",
    "groups = {}\n",
    "for name in names:\n",
    "    key = len(name)\n",
    "    if key not in groups:\n",
    "        groups[key] = []\n",
    "    groups[key].append(name)\n",
    "    \n",
    "# use ‘setdefault’ with default value prepared\n",
    "groups = {}\n",
    "for name in names:\n",
    "    groups.setdefault(len(name), []).append(name)\n",
    "print groups\n",
    "\n",
    "# use ‘defaultdict’\n",
    "from collections import defaultdict\n",
    "groups = defaultdict(list)\n",
    "for name in names:\n",
    "    groups[len(name)].append(name)\n",
    "print groups"
   ]
  },
  {
   "cell_type": "code",
   "execution_count": null,
   "metadata": {
    "collapsed": false
   },
   "outputs": [],
   "source": [
    "# Comprehensions\n",
    "\n",
    "# bad\n",
    "A, odd_or_even = [1, 1, 2, 3, 5, 8, 13, 21], []\n",
    "for num in A:\n",
    "    odd_or_even.append(num%2==0)\n",
    "\n",
    "# expected result\n",
    "[True, True, False, True, True, False, True, True]\n",
    "\n",
    "# idiomatic way\n",
    "[a%2!=0 for a in A]\n",
    "#　[True, True, False, True, True, False, True, True]\n",
    "\n",
    "[a for a in A if a%2 != 0]\n",
    "# [1, 1, 3, 5, 13, 21]\n",
    "\n",
    "# List: [1, 1, 4, 9, 25, 64, 169, 441]\n",
    "l = [a**2 for a in A]\n",
    "# Set:  ([1, 2, 3, 4])\n",
    "from math import sqrt\n",
    "s = {int(sqrt(a)) for a in A}\n",
    "# Dict: {8: 2, 1: 1, 2: 2, 5: 2, 13: 1}\n",
    "d = {a:a%3 for a in A if a%3}"
   ]
  },
  {
   "cell_type": "markdown",
   "metadata": {},
   "source": [
    "### 3. Control Flow"
   ]
  },
  {
   "cell_type": "code",
   "execution_count": null,
   "metadata": {
    "collapsed": false
   },
   "outputs": [],
   "source": [
    "# Truthiness\n",
    "\n",
    "# Avoid comparing directly to True, False, or None\n",
    "\"\"\"\n",
    "if name_list != []:\n",
    "    ...\n",
    "    \n",
    "if fool == True:\n",
    "    ...\n",
    "    \n",
    "\\# idiomatic way\n",
    "if name_list:\n",
    "    # do something\n",
    "if fool:\n",
    "    # do something\n",
    "\n",
    "All of the following are considered ‘False’\n",
    "● None\n",
    "● False\n",
    "● zero for numeric types\n",
    "● empty sequence, e.g. [], tuple()\n",
    "● empty dictionaries\n",
    "● a value of 0 or False returned when either __len__ or __non_zero__ is called\n",
    "\"\"\"\n",
    "print ''"
   ]
  },
  {
   "cell_type": "code",
   "execution_count": null,
   "metadata": {
    "collapsed": false
   },
   "outputs": [],
   "source": [
    "# ‘if-in’\n",
    "\n",
    "color = 'yellow'\n",
    "\n",
    "# ugly, repeating variables\n",
    "is_generic_color = False\n",
    "if color == 'red' or color == 'green' or color == 'blue':\n",
    "    is_generic_color = True\n",
    "\n",
    "# idiomatic way\n",
    "print color in ('red', 'green', 'blue')"
   ]
  },
  {
   "cell_type": "code",
   "execution_count": null,
   "metadata": {
    "collapsed": false
   },
   "outputs": [],
   "source": [
    "# ‘for-else’\n",
    "\n",
    "ages = [42, 21, 18, 33, 19]\n",
    "\n",
    "# old way\n",
    "are_all_adult = True\n",
    "for age in ages:\n",
    "    if age < 18:\n",
    "        are_all_adult = False\n",
    "        break\n",
    "if are_all_adult:\n",
    "    print 'All are adults!'\n",
    "\n",
    "# idiomatic way\n",
    "for age in ages:\n",
    "    if age < 18:\n",
    "        break\n",
    "else: # go through without break\n",
    "    print 'All are adults!'"
   ]
  },
  {
   "cell_type": "code",
   "execution_count": null,
   "metadata": {
    "collapsed": false
   },
   "outputs": [],
   "source": [
    "# Context Manager\n",
    "\n",
    "# old way\n",
    "f = open('data.csv')\n",
    "try:\n",
    "    data = f.read()\n",
    "finally:\n",
    "    f.close()\n",
    "\n",
    "# idiomatic way\n",
    "with open('data.csv') as f:\n",
    "    data = f.read()"
   ]
  },
  {
   "cell_type": "markdown",
   "metadata": {},
   "source": [
    "### 4. itertools"
   ]
  },
  {
   "cell_type": "code",
   "execution_count": null,
   "metadata": {
    "collapsed": false
   },
   "outputs": [],
   "source": [
    "# Looping with two collections\n",
    "\n",
    "colors = ['red', 'blue', 'green', 'yellow']\n",
    "fruits = ['cherry', 'blueberry', 'kiwi']\n",
    "\n",
    "# old way\n",
    "min_len = min(len(colors), len(fruits))\n",
    "for i in range(min_len):\n",
    "    print fruits[i], '-->', colors[i]\n",
    "\n",
    "# idiomatic way\n",
    "from itertools import izip\n",
    "for fruit, color in izip(fruits, colors):\n",
    "    print fruit, '-->', color"
   ]
  },
  {
   "cell_type": "code",
   "execution_count": null,
   "metadata": {
    "collapsed": true
   },
   "outputs": [],
   "source": [
    "# Building Dictionaries\n",
    "\n",
    "fruits = ['cherry', 'blueberry', 'kiwi', 'mango']\n",
    "colors = ['red', 'blue', 'green', 'yellow']\n",
    "\n",
    "# expected\n",
    "{'kiwi': 'green', 'cherry': 'red', 'mango': 'yellow',\n",
    "'blueberry': 'blue'}\n",
    "\n",
    "# old way\n",
    "pairs = {}\n",
    "for fruit, color in izip(fruits, colors):\n",
    "    pairs[fruit] = color\n",
    "\n",
    "# idiomatic way\n",
    "from itertools import izip\n",
    "pairs = dict(izip(fruits, colors))"
   ]
  },
  {
   "cell_type": "code",
   "execution_count": null,
   "metadata": {
    "collapsed": false
   },
   "outputs": [],
   "source": [
    "# ‘groupby’\n",
    "\n",
    "names = ['james', 'peter', 'simon', 'jack', 'john', 'lawrence']\n",
    "\n",
    "# expected\n",
    "{8: ['lawrence'], 4: ['jack', 'john'], 5: ['james', 'peter', 'simon']}\n",
    "\n",
    "# use itertools\n",
    "from itertools import groupby\n",
    "{k:list(v) for k, v in groupby(names, len)}"
   ]
  },
  {
   "cell_type": "code",
   "execution_count": null,
   "metadata": {
    "collapsed": false
   },
   "outputs": [],
   "source": [
    "# More\n",
    "\n",
    "# chain([1,2,3], ['a','b'], [4]) ==> 1,2,3,'a','b',4\n",
    "\n",
    "# repeat('A', 3) ==> 'A' 'A' 'A'\n",
    "\n",
    "# cycle('ABCD') ==> A B C D A B C D ...\n",
    "\n",
    "# compress('ABCDEF', [1,0,1,0,1,1]) ==> A C E F\n",
    "\n",
    "# combinations/permutations/product/..."
   ]
  },
  {
   "cell_type": "markdown",
   "metadata": {},
   "source": [
    "### 5. Functional Python\n",
    "\n",
    "What is functional\n",
    "- Imperative programming (C/C++, Java)\n",
    "- Declarative programming\n",
    "    * Functional programming (Lisp, Haskell, OCaml)\n",
    "    * Logic programming (Prolog, Clojure)\n",
    "\n",
    "“Functions are data, too. Can be passed through and manipulated like data.”"
   ]
  },
  {
   "cell_type": "code",
   "execution_count": null,
   "metadata": {
    "collapsed": true
   },
   "outputs": [],
   "source": [
    "# partial\n",
    "\n",
    "# old way\n",
    "def log(level, message):\n",
    "    print \"[{level}]: {msg}\".format(level=level, msg=message)\n",
    "def log_debug(message):\n",
    "    log('debug', message)\n",
    "def log_warn(message):\n",
    "    log('warn', message)\n",
    "\n",
    "# old way\n",
    "def create_log_with_level(level):\n",
    "    def log_with_level(message):\n",
    "        log(level, message)\n",
    "    return log_with_level\n",
    "\n",
    "# construct functions like data\n",
    "log_debug = create_log_with_level('debug')\n",
    "log_warn = create_log_with_level('warn')\n",
    "\n",
    "# use functools\n",
    "from functools import partial\n",
    "log_debug = partial(log, 'debug')\n",
    "log_warn = partial(log, 'warn')"
   ]
  },
  {
   "cell_type": "code",
   "execution_count": null,
   "metadata": {
    "collapsed": false
   },
   "outputs": [],
   "source": [
    "# Decorator\n",
    "\n",
    "# old way, mixing administrative logic with domain logic\n",
    "def web_lookup(url, cache={}):\n",
    "    if url not in cache:\n",
    "        cache[url] = urllib.urlopen(url).read()\n",
    "    return cache[url]\n",
    "\n",
    "# implementation of the ‘cache’ decorator\n",
    "from functools import wraps\n",
    "def cache(func):\n",
    "    saved = {}\n",
    "    @wraps\n",
    "    def new_func(*args):\n",
    "        if args not in saved:\n",
    "            saved[args] = func(*args)\n",
    "        return saved[args]\n",
    "    return new_func\n",
    "\n",
    "# use decorator, as in AOP\n",
    "@cache\n",
    "def web_lookup(url):\n",
    "    return urllib.urlopen(url).read()"
   ]
  },
  {
   "cell_type": "code",
   "execution_count": null,
   "metadata": {
    "collapsed": false
   },
   "outputs": [],
   "source": [
    "# Combine\n",
    "\n",
    "# imperative way\n",
    "expr, res = '28++32+++32+39', 0\n",
    "for token in expr.split('+'):\n",
    "    if token:\n",
    "        res += int(token)\n",
    "\n",
    "# result of split\n",
    "[\"28\", \"\", \"32\", \"\", \"\", \"32\", \"39\"]\n",
    "\n",
    "# functional way\n",
    "res = sum(map(int, filter(bool, expr.split('+'))))\n",
    "\n",
    "# filter(pred, seq) => [t for t in seq if pred(t)]\n",
    "# [\"28\", \"32\", \"32\", \"39\"]\n",
    "# map(func, seq) => [func(t) for t in seq]\n",
    "# [28, 32, 32, 39]"
   ]
  },
  {
   "cell_type": "code",
   "execution_count": null,
   "metadata": {
    "collapsed": false
   },
   "outputs": [],
   "source": [
    "# ‘all’\n",
    "\n",
    "ages = [42, 21, 18, 33, 19]\n",
    "\n",
    "# more expressive than using ‘for-else’\n",
    "if all(map(lambda a:a>=18, ages)):\n",
    "    print 'All are adults!'"
   ]
  },
  {
   "cell_type": "markdown",
   "metadata": {
    "collapsed": true
   },
   "source": [
    "### 6. References\n",
    "\n",
    "[1] [code like a pythonista](http://python.net/~goodger/projects/pycon/2007/idiomatic/handout.html)\n",
    "\n",
    "[2] [itertools](https://docs.python.org/2/library/itertools.html)\n",
    "\n",
    "[3] [functional python](http://ua.pycon.org/static/talks/kachayev)\n",
    "\n",
    "[4] [functools](https://docs.python.org/2/library/functools.html)\n",
    "\n",
    "[5] [pydash](http://pydash.readthedocs.org/en/latest/)"
   ]
  }
 ],
 "metadata": {
  "kernelspec": {
   "display_name": "Python 2",
   "language": "python",
   "name": "python2"
  },
  "language_info": {
   "codemirror_mode": {
    "name": "ipython",
    "version": 2
   },
   "file_extension": ".py",
   "mimetype": "text/x-python",
   "name": "python",
   "nbconvert_exporter": "python",
   "pygments_lexer": "ipython2",
   "version": "2.7.12"
  }
 },
 "nbformat": 4,
 "nbformat_minor": 0
}
